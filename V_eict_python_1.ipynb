{
  "nbformat": 4,
  "nbformat_minor": 0,
  "metadata": {
    "colab": {
      "provenance": [],
      "authorship_tag": "ABX9TyOnh6uWJ9PorAjOp54EUi5K",
      "include_colab_link": true
    },
    "kernelspec": {
      "name": "python3",
      "display_name": "Python 3"
    },
    "language_info": {
      "name": "python"
    }
  },
  "cells": [
    {
      "cell_type": "markdown",
      "metadata": {
        "id": "view-in-github",
        "colab_type": "text"
      },
      "source": [
        "<a href=\"https://colab.research.google.com/github/VitikaJain25/Eduxlabs-AI-ML/blob/main/eict_python_1.ipynb\" target=\"_parent\"><img src=\"https://colab.research.google.com/assets/colab-badge.svg\" alt=\"Open In Colab\"/></a>"
      ]
    },
    {
      "cell_type": "markdown",
      "source": [
        "\n",
        "\n",
        "*   Python Basics\n",
        "*   Data Science Concept - data cleaning, preprocessing, feature engineering , data filtering , statistical analysis\n",
        "*   Machine learning concept - plan and make predictive models\n",
        "*   ML model deployment\n",
        "\n",
        "\n",
        "\n",
        "\n",
        "\n",
        "\n"
      ],
      "metadata": {
        "id": "VoK0CMyjB4OE"
      }
    },
    {
      "cell_type": "markdown",
      "source": [
        "**Python Basics**\n",
        "* Variables and values\n",
        "* Data Types\n",
        "* Operators\n",
        "* Logical programming - If/Else\n",
        "* Loops\n",
        "* Functions\n",
        "* File Handling & Exception Handling"
      ],
      "metadata": {
        "id": "A7OPuXZ_CGVi"
      }
    },
    {
      "cell_type": "code",
      "source": [
        "print(\"Hello World\")"
      ],
      "metadata": {
        "colab": {
          "base_uri": "https://localhost:8080/"
        },
        "id": "jlDO2l3zCHr6",
        "outputId": "b11ed11e-6257-4d30-95ad-fd08755ec4cc"
      },
      "execution_count": 1,
      "outputs": [
        {
          "output_type": "stream",
          "name": "stdout",
          "text": [
            "Hello World\n"
          ]
        }
      ]
    },
    {
      "cell_type": "code",
      "source": [
        "age = 5\n",
        "name = 'John'\n",
        "email = 'john@gmail.com'\n",
        "salary = 555000.55"
      ],
      "metadata": {
        "id": "lmwfZOq8CMGF"
      },
      "execution_count": 2,
      "outputs": []
    },
    {
      "cell_type": "code",
      "source": [
        "print(name)\n",
        "print(age)\n",
        "\n",
        "print('Name of employee is', name , '.and age of employee is' , age)"
      ],
      "metadata": {
        "colab": {
          "base_uri": "https://localhost:8080/"
        },
        "id": "l1-LVCcgCPNw",
        "outputId": "e7064727-a242-43c5-bcd4-c409d3b6ce51"
      },
      "execution_count": 3,
      "outputs": [
        {
          "output_type": "stream",
          "name": "stdout",
          "text": [
            "John\n",
            "5\n",
            "Name of employee is John .and age of employee is 5\n"
          ]
        }
      ]
    },
    {
      "cell_type": "code",
      "source": [
        "print(f'Name of employee is {name}.and age of employee is {age}.')"
      ],
      "metadata": {
        "colab": {
          "base_uri": "https://localhost:8080/"
        },
        "id": "VlizwAvICR8r",
        "outputId": "faf9f366-d963-4e16-a3ef-38d3e692b01f"
      },
      "execution_count": 4,
      "outputs": [
        {
          "output_type": "stream",
          "name": "stdout",
          "text": [
            "Name of employee is John.and age of employee is 5.\n"
          ]
        }
      ]
    },
    {
      "cell_type": "markdown",
      "source": [
        "* **Data Types**"
      ],
      "metadata": {
        "id": "kOfPedeXCWn6"
      }
    },
    {
      "cell_type": "code",
      "source": [
        "print(type(age))\n",
        "print(type(name))\n",
        "print(type(email))\n",
        "print(type(salary))"
      ],
      "metadata": {
        "colab": {
          "base_uri": "https://localhost:8080/"
        },
        "id": "I1Qy8zlmCSiT",
        "outputId": "8308d9bf-1af2-442e-94fc-47cc3c69706c"
      },
      "execution_count": 5,
      "outputs": [
        {
          "output_type": "stream",
          "name": "stdout",
          "text": [
            "<class 'int'>\n",
            "<class 'str'>\n",
            "<class 'str'>\n",
            "<class 'float'>\n"
          ]
        }
      ]
    },
    {
      "cell_type": "markdown",
      "source": [
        "**Data Types**\n",
        "* Integer\n",
        "* String\n",
        "* Float\n",
        "* List\n",
        "* Tuple\n",
        "* Dictionary\n",
        "* Set"
      ],
      "metadata": {
        "id": "NzHKx0ayCdFS"
      }
    },
    {
      "cell_type": "markdown",
      "source": [
        "**List**"
      ],
      "metadata": {
        "id": "DntbA9G5CgUi"
      }
    },
    {
      "cell_type": "code",
      "execution_count": 7,
      "metadata": {
        "colab": {
          "base_uri": "https://localhost:8080/"
        },
        "id": "cC71xhlkRAfq",
        "outputId": "e5b955ac-0d43-4d10-eac4-1a7186ffb5d8"
      },
      "outputs": [
        {
          "output_type": "stream",
          "name": "stdout",
          "text": [
            "['John', 'James', 'Tom', 'Jerry', 'Mickey', 'bob']\n"
          ]
        }
      ],
      "source": [
        "emps = ['John', 'James', 'Tom', 'Jerry', 'Mickey', 'bob']\n",
        "print(emps)"
      ]
    },
    {
      "cell_type": "code",
      "source": [
        "print(emps[0])\n",
        "print(emps[4])"
      ],
      "metadata": {
        "colab": {
          "base_uri": "https://localhost:8080/"
        },
        "id": "-WGoXRCfRegr",
        "outputId": "4de72c3a-9419-4e95-ff8d-be946a139391"
      },
      "execution_count": 8,
      "outputs": [
        {
          "output_type": "stream",
          "name": "stdout",
          "text": [
            "John\n",
            "Mickey\n"
          ]
        }
      ]
    },
    {
      "cell_type": "code",
      "source": [
        "print(len(emps))\n",
        "print(type(emps))"
      ],
      "metadata": {
        "colab": {
          "base_uri": "https://localhost:8080/"
        },
        "id": "ClWIlkckRhPp",
        "outputId": "efea629f-db31-4dbb-85e7-0db61b781a69"
      },
      "execution_count": 9,
      "outputs": [
        {
          "output_type": "stream",
          "name": "stdout",
          "text": [
            "6\n",
            "<class 'list'>\n"
          ]
        }
      ]
    },
    {
      "cell_type": "code",
      "source": [
        "#Make Changes in list values\n",
        "print(emps)\n",
        "emps[3] = \"Anand\"\n",
        "print(emps)"
      ],
      "metadata": {
        "colab": {
          "base_uri": "https://localhost:8080/"
        },
        "id": "NezpHn8DRnSm",
        "outputId": "33149647-d9f4-4142-c38d-4be41d9260d2"
      },
      "execution_count": 10,
      "outputs": [
        {
          "output_type": "stream",
          "name": "stdout",
          "text": [
            "['John', 'James', 'Tom', 'Jerry', 'Mickey', 'bob']\n",
            "['John', 'James', 'Tom', 'Anand', 'Mickey', 'bob']\n"
          ]
        }
      ]
    },
    {
      "cell_type": "code",
      "source": [
        "#Functions of list - append() - to add a new info at the end\n",
        "print(emps)\n",
        "emps.append('Aman')\n",
        "print(emps)"
      ],
      "metadata": {
        "colab": {
          "base_uri": "https://localhost:8080/"
        },
        "id": "0l7Jk9nnR1yi",
        "outputId": "8b245c5e-9c87-4857-fb49-ed68688ae8ee"
      },
      "execution_count": 11,
      "outputs": [
        {
          "output_type": "stream",
          "name": "stdout",
          "text": [
            "['John', 'James', 'Tom', 'Anand', 'Mickey', 'bob']\n",
            "['John', 'James', 'Tom', 'Anand', 'Mickey', 'bob', 'Aman']\n"
          ]
        }
      ]
    },
    {
      "cell_type": "code",
      "source": [
        "#Functions of list - insert() - to add a new info at a defined index\n",
        "print(emps)\n",
        "emps.insert(3, 'Atul')\n",
        "print(emps)"
      ],
      "metadata": {
        "colab": {
          "base_uri": "https://localhost:8080/"
        },
        "id": "nNPotzGUSBzr",
        "outputId": "2f418d8b-731f-4e32-ad88-efe2dd9cf828"
      },
      "execution_count": 12,
      "outputs": [
        {
          "output_type": "stream",
          "name": "stdout",
          "text": [
            "['John', 'James', 'Tom', 'Anand', 'Mickey', 'bob', 'Aman']\n",
            "['John', 'James', 'Tom', 'Atul', 'Anand', 'Mickey', 'bob', 'Aman']\n"
          ]
        }
      ]
    },
    {
      "cell_type": "code",
      "source": [
        "#Functions of list - remove() - to remove a value from a list\n",
        "print(emps)\n",
        "emps.remove(\"Mickey\")\n",
        "print(emps)"
      ],
      "metadata": {
        "colab": {
          "base_uri": "https://localhost:8080/"
        },
        "id": "KdNzREFcSS9o",
        "outputId": "82c13eba-82e5-491f-b77c-02c734fbc1da"
      },
      "execution_count": 13,
      "outputs": [
        {
          "output_type": "stream",
          "name": "stdout",
          "text": [
            "['John', 'James', 'Tom', 'Atul', 'Anand', 'Mickey', 'bob', 'Aman']\n",
            "['John', 'James', 'Tom', 'Atul', 'Anand', 'bob', 'Aman']\n"
          ]
        }
      ]
    },
    {
      "cell_type": "code",
      "source": [
        "#Functions of list - pop() - to remove a value from a list using index of the value\n",
        "print (emps)\n",
        "emps.pop(2)\n",
        "print(emps)"
      ],
      "metadata": {
        "colab": {
          "base_uri": "https://localhost:8080/"
        },
        "id": "BJ-hynhKSh2r",
        "outputId": "908b341b-9ad9-4e34-82c5-2fc33eec1f20"
      },
      "execution_count": 14,
      "outputs": [
        {
          "output_type": "stream",
          "name": "stdout",
          "text": [
            "['John', 'James', 'Tom', 'Atul', 'Anand', 'bob', 'Aman']\n",
            "['John', 'James', 'Atul', 'Anand', 'bob', 'Aman']\n"
          ]
        }
      ]
    },
    {
      "cell_type": "markdown",
      "source": [
        "**Tuple** **- Immutable - We can't make changes to it.**"
      ],
      "metadata": {
        "id": "8oFD2Xi-TsXE"
      }
    },
    {
      "cell_type": "code",
      "source": [
        "cities = ('Delhi', 'Mumbai', 'Paris', 'Berlin', 'Tokyo')\n",
        "print(cities)\n",
        "print(type(cities))\n",
        "print(len(cities))"
      ],
      "metadata": {
        "colab": {
          "base_uri": "https://localhost:8080/"
        },
        "id": "f5Xt8gDoTu6B",
        "outputId": "ed9ac084-23be-41c2-b8fa-f25e5d7d4598"
      },
      "execution_count": 15,
      "outputs": [
        {
          "output_type": "stream",
          "name": "stdout",
          "text": [
            "('Delhi', 'Mumbai', 'Paris', 'Berlin', 'Tokyo')\n",
            "<class 'tuple'>\n",
            "5\n"
          ]
        }
      ]
    },
    {
      "cell_type": "code",
      "source": [
        "print (cities[2])"
      ],
      "metadata": {
        "colab": {
          "base_uri": "https://localhost:8080/"
        },
        "id": "D324GOn1UVbJ",
        "outputId": "7fbb136d-ac5c-4fba-8635-780890ddf20d"
      },
      "execution_count": 16,
      "outputs": [
        {
          "output_type": "stream",
          "name": "stdout",
          "text": [
            "Paris\n"
          ]
        }
      ]
    },
    {
      "cell_type": "code",
      "source": [
        "# We cannot change as it is immutable\n",
        "cities[2] = 'Bangalore'"
      ],
      "metadata": {
        "colab": {
          "base_uri": "https://localhost:8080/",
          "height": 181
        },
        "id": "92qfWZvMUbTt",
        "outputId": "94e38d9d-34a6-460c-fbf5-9a25c4129c28"
      },
      "execution_count": 17,
      "outputs": [
        {
          "output_type": "error",
          "ename": "TypeError",
          "evalue": "ignored",
          "traceback": [
            "\u001b[0;31m---------------------------------------------------------------------------\u001b[0m",
            "\u001b[0;31mTypeError\u001b[0m                                 Traceback (most recent call last)",
            "\u001b[0;32m<ipython-input-17-4bd970796f04>\u001b[0m in \u001b[0;36m<cell line: 2>\u001b[0;34m()\u001b[0m\n\u001b[1;32m      1\u001b[0m \u001b[0;31m# We cannot change as it is immutable\u001b[0m\u001b[0;34m\u001b[0m\u001b[0;34m\u001b[0m\u001b[0m\n\u001b[0;32m----> 2\u001b[0;31m \u001b[0mcities\u001b[0m\u001b[0;34m[\u001b[0m\u001b[0;36m2\u001b[0m\u001b[0;34m]\u001b[0m \u001b[0;34m=\u001b[0m \u001b[0;34m'Bangalore'\u001b[0m\u001b[0;34m\u001b[0m\u001b[0;34m\u001b[0m\u001b[0m\n\u001b[0m",
            "\u001b[0;31mTypeError\u001b[0m: 'tuple' object does not support item assignment"
          ]
        }
      ]
    },
    {
      "cell_type": "markdown",
      "source": [
        "**Dictionary - Stores the values as key-value pair**"
      ],
      "metadata": {
        "id": "MsLxI3feUzcT"
      }
    },
    {
      "cell_type": "code",
      "source": [
        "employee = {'name' : 'Bipul', 'email' : 'bipul@gmail.com', 'age' : '32'}\n",
        "print(employee)\n",
        "print(type(employee))"
      ],
      "metadata": {
        "colab": {
          "base_uri": "https://localhost:8080/"
        },
        "id": "icyN2k65U73k",
        "outputId": "c523e250-2cd5-4492-e992-92a74b56bd43"
      },
      "execution_count": 18,
      "outputs": [
        {
          "output_type": "stream",
          "name": "stdout",
          "text": [
            "{'name': 'Bipul', 'email': 'bipul@gmail.com', 'age': '32'}\n",
            "<class 'dict'>\n"
          ]
        }
      ]
    },
    {
      "cell_type": "code",
      "source": [
        "print(employee.keys())\n",
        "print(employee.values())"
      ],
      "metadata": {
        "colab": {
          "base_uri": "https://localhost:8080/"
        },
        "id": "yjj-Q3PLVGCV",
        "outputId": "5a78a0f7-fec1-4b52-ec24-221b88417805"
      },
      "execution_count": 19,
      "outputs": [
        {
          "output_type": "stream",
          "name": "stdout",
          "text": [
            "dict_keys(['name', 'email', 'age'])\n",
            "dict_values(['Bipul', 'bipul@gmail.com', '32'])\n"
          ]
        }
      ]
    },
    {
      "cell_type": "code",
      "source": [
        "print(employee['email'])\n",
        "print(employee['age'])"
      ],
      "metadata": {
        "colab": {
          "base_uri": "https://localhost:8080/"
        },
        "id": "l64ZsVrrVcMn",
        "outputId": "2be94a31-4efc-468b-cbdc-eae3f0961372"
      },
      "execution_count": 20,
      "outputs": [
        {
          "output_type": "stream",
          "name": "stdout",
          "text": [
            "bipul@gmail.com\n",
            "32\n"
          ]
        }
      ]
    },
    {
      "cell_type": "code",
      "source": [
        "#Adding new entity into the dictionary\n",
        "print(employee)\n",
        "employee['salary'] = '$43424'\n",
        "print(employee)"
      ],
      "metadata": {
        "colab": {
          "base_uri": "https://localhost:8080/"
        },
        "id": "7XmxAhOhV3v1",
        "outputId": "23b90bda-de94-40fe-e572-b3d5e68efb88"
      },
      "execution_count": 21,
      "outputs": [
        {
          "output_type": "stream",
          "name": "stdout",
          "text": [
            "{'name': 'Bipul', 'email': 'bipul@gmail.com', 'age': '32'}\n",
            "{'name': 'Bipul', 'email': 'bipul@gmail.com', 'age': '32', 'salary': '$43424'}\n"
          ]
        }
      ]
    },
    {
      "cell_type": "code",
      "source": [
        "#Delete a value from the dictionary\n",
        "print(employee)\n",
        "del(employee['age'])\n",
        "print(employee)"
      ],
      "metadata": {
        "colab": {
          "base_uri": "https://localhost:8080/"
        },
        "id": "SFv0LtHTCq2f",
        "outputId": "bfb8adfb-ea72-4091-bdec-78fa04c9ebfb"
      },
      "execution_count": 22,
      "outputs": [
        {
          "output_type": "stream",
          "name": "stdout",
          "text": [
            "{'name': 'Bipul', 'email': 'bipul@gmail.com', 'age': '32', 'salary': '$43424'}\n",
            "{'name': 'Bipul', 'email': 'bipul@gmail.com', 'salary': '$43424'}\n"
          ]
        }
      ]
    },
    {
      "cell_type": "markdown",
      "source": [
        "**Set - Unordered type of data collection, only uniques values**\n",
        "\n",
        "List and Tuple can have duplicate values."
      ],
      "metadata": {
        "id": "3o2Ek6deWGGd"
      }
    },
    {
      "cell_type": "code",
      "source": [
        "cities_set = {'Delhi', 'Mumbai', 'Paris', 'Berlin', 'Tokyo', 'Mumbai', 'Delhi'}\n",
        "print(cities_set)"
      ],
      "metadata": {
        "colab": {
          "base_uri": "https://localhost:8080/"
        },
        "id": "xNr55n-8WWHj",
        "outputId": "5b2de8d5-ab92-4992-b3b2-f1c8a6c68bd7"
      },
      "execution_count": 23,
      "outputs": [
        {
          "output_type": "stream",
          "name": "stdout",
          "text": [
            "{'Berlin', 'Tokyo', 'Paris', 'Delhi', 'Mumbai'}\n"
          ]
        }
      ]
    },
    {
      "cell_type": "code",
      "source": [
        "#Add a new value into set\n",
        "cities_set.add('Ahemdabad')\n",
        "print(cities_set)"
      ],
      "metadata": {
        "colab": {
          "base_uri": "https://localhost:8080/"
        },
        "id": "d8SyHOIOWj_J",
        "outputId": "6ffc99a8-3e48-4769-c8ff-533f29da4edf"
      },
      "execution_count": 24,
      "outputs": [
        {
          "output_type": "stream",
          "name": "stdout",
          "text": [
            "{'Ahemdabad', 'Berlin', 'Tokyo', 'Paris', 'Delhi', 'Mumbai'}\n"
          ]
        }
      ]
    },
    {
      "cell_type": "code",
      "source": [
        "cities_set.remove('Tokyo')\n",
        "print(cities_set)"
      ],
      "metadata": {
        "colab": {
          "base_uri": "https://localhost:8080/"
        },
        "id": "nkDpT-woCydl",
        "outputId": "02246bec-7b30-4919-f95e-7893d819e833"
      },
      "execution_count": 25,
      "outputs": [
        {
          "output_type": "stream",
          "name": "stdout",
          "text": [
            "{'Ahemdabad', 'Berlin', 'Paris', 'Delhi', 'Mumbai'}\n"
          ]
        }
      ]
    }
  ]
}
