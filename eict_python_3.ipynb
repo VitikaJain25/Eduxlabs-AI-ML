{
  "nbformat": 4,
  "nbformat_minor": 0,
  "metadata": {
    "colab": {
      "provenance": [],
      "authorship_tag": "ABX9TyNpwsfI8CDcNYBH0nYBi6Gu",
      "include_colab_link": true
    },
    "kernelspec": {
      "name": "python3",
      "display_name": "Python 3"
    },
    "language_info": {
      "name": "python"
    }
  },
  "cells": [
    {
      "cell_type": "markdown",
      "metadata": {
        "id": "view-in-github",
        "colab_type": "text"
      },
      "source": [
        "<a href=\"https://colab.research.google.com/github/VitikaJain25/Eduxlabs-AI-ML/blob/main/eict_python_3.ipynb\" target=\"_parent\"><img src=\"https://colab.research.google.com/assets/colab-badge.svg\" alt=\"Open In Colab\"/></a>"
      ]
    },
    {
      "cell_type": "markdown",
      "source": [
        "**Loops -**\n",
        "* for loop\n",
        "* while loop"
      ],
      "metadata": {
        "id": "eqIHeI5PQ375"
      }
    },
    {
      "cell_type": "code",
      "execution_count": 7,
      "metadata": {
        "colab": {
          "base_uri": "https://localhost:8080/"
        },
        "id": "Sz4HJ428O2hE",
        "outputId": "3a0f4fff-d6a9-45be-e548-9e8a0f7cdf14"
      },
      "outputs": [
        {
          "output_type": "stream",
          "name": "stdout",
          "text": [
            "0 Hello World!\n",
            "1 Hello World!\n",
            "2 Hello World!\n",
            "3 Hello World!\n",
            "4 Hello World!\n"
          ]
        }
      ],
      "source": [
        "for i in range (0,5):\n",
        "  print(i, 'Hello World!')"
      ]
    },
    {
      "cell_type": "code",
      "source": [
        "for i in range (0,10):\n",
        "  # print('2 *',i ,'=' , 2 * i)\n",
        "  print(f'2 * {i} =', 2 * i)"
      ],
      "metadata": {
        "colab": {
          "base_uri": "https://localhost:8080/"
        },
        "id": "FsMvhPMDRdn6",
        "outputId": "8804844a-1f1f-477e-c906-9edd2b11963c"
      },
      "execution_count": 12,
      "outputs": [
        {
          "output_type": "stream",
          "name": "stdout",
          "text": [
            "2 * 0 = 0\n",
            "2 * 1 = 2\n",
            "2 * 2 = 4\n",
            "2 * 3 = 6\n",
            "2 * 4 = 8\n",
            "2 * 5 = 10\n",
            "2 * 6 = 12\n",
            "2 * 7 = 14\n",
            "2 * 8 = 16\n",
            "2 * 9 = 18\n"
          ]
        }
      ]
    },
    {
      "cell_type": "code",
      "source": [
        "cities = ('Delhi', 'Mumbai', 'Paris', 'Berlin', 'Tokyo')\n",
        "\n",
        "# While creating a loop if it is a list, tupple, dictionary\n",
        "# for city in cities:\n",
        "#  print(city, len(city))\n",
        "\n",
        "#OR\n",
        "\n",
        "for i in range(0,5):\n",
        "  print(cities[i], len(cities[i]))\n",
        "  # print(cities[i], len(cities[i]), end = ' ') # If we do not want new line(line break)"
      ],
      "metadata": {
        "colab": {
          "base_uri": "https://localhost:8080/"
        },
        "id": "_7eTVGu2TD2L",
        "outputId": "a61bcd56-e802-4bdb-ba56-269e7ecfa281"
      },
      "execution_count": 17,
      "outputs": [
        {
          "output_type": "stream",
          "name": "stdout",
          "text": [
            "Delhi 5\n",
            "Mumbai 6\n",
            "Paris 5\n",
            "Berlin 6\n",
            "Tokyo 5\n"
          ]
        }
      ]
    },
    {
      "cell_type": "markdown",
      "source": [
        "**Break**"
      ],
      "metadata": {
        "id": "4RfoR9FoXHMH"
      }
    },
    {
      "cell_type": "code",
      "source": [
        "# The loops breaks in between when the condition satisfies.\n",
        "for i in range(0,10):\n",
        "  print(i)\n",
        "  if i == 6:\n",
        "    break"
      ],
      "metadata": {
        "colab": {
          "base_uri": "https://localhost:8080/"
        },
        "id": "rAmdqPAkVzXT",
        "outputId": "ae00ba85-3966-4c58-85c8-f5c2ba055612"
      },
      "execution_count": 19,
      "outputs": [
        {
          "output_type": "stream",
          "name": "stdout",
          "text": [
            "0\n",
            "1\n",
            "2\n",
            "3\n",
            "4\n",
            "5\n",
            "6\n"
          ]
        }
      ]
    },
    {
      "cell_type": "code",
      "source": [
        "for city in cities:\n",
        "  print(city, len(city))\n",
        "  if city == 'Paris':\n",
        "    break"
      ],
      "metadata": {
        "colab": {
          "base_uri": "https://localhost:8080/"
        },
        "id": "SJtdlzYaWgsR",
        "outputId": "68ecddc8-40d0-42dd-c25f-2595563c05e8"
      },
      "execution_count": 22,
      "outputs": [
        {
          "output_type": "stream",
          "name": "stdout",
          "text": [
            "Delhi 5\n",
            "Mumbai 6\n",
            "Paris 5\n"
          ]
        }
      ]
    },
    {
      "cell_type": "markdown",
      "source": [
        "**Continue**"
      ],
      "metadata": {
        "id": "nU71qo-iXC6D"
      }
    },
    {
      "cell_type": "code",
      "source": [
        "for i in range(1,11):\n",
        "  if i == 7:\n",
        "    continue\n",
        "  print(f'2 * {i} =', 2 * i)"
      ],
      "metadata": {
        "colab": {
          "base_uri": "https://localhost:8080/"
        },
        "id": "nmNVQ0JaWz_X",
        "outputId": "620a4f1b-6113-4f54-f77d-87fea3303d65"
      },
      "execution_count": 24,
      "outputs": [
        {
          "output_type": "stream",
          "name": "stdout",
          "text": [
            "2 * 1 = 2\n",
            "2 * 2 = 4\n",
            "2 * 3 = 6\n",
            "2 * 4 = 8\n",
            "2 * 5 = 10\n",
            "2 * 6 = 12\n",
            "2 * 8 = 16\n",
            "2 * 9 = 18\n",
            "2 * 10 = 20\n"
          ]
        }
      ]
    },
    {
      "cell_type": "code",
      "source": [
        "for city in cities:\n",
        "  if city == 'Paris':\n",
        "    continue\n",
        "  print(city, len(city))"
      ],
      "metadata": {
        "colab": {
          "base_uri": "https://localhost:8080/"
        },
        "id": "9dWdWDUhYJ7K",
        "outputId": "db34c844-4878-4bf8-886f-c52d95d71933"
      },
      "execution_count": 25,
      "outputs": [
        {
          "output_type": "stream",
          "name": "stdout",
          "text": [
            "Delhi 5\n",
            "Mumbai 6\n",
            "Berlin 6\n",
            "Tokyo 5\n"
          ]
        }
      ]
    },
    {
      "cell_type": "markdown",
      "source": [
        "**While Loop**"
      ],
      "metadata": {
        "id": "GFyQxVTDYSFq"
      }
    },
    {
      "cell_type": "code",
      "source": [
        "if True:\n",
        "  print('Hello World!')"
      ],
      "metadata": {
        "colab": {
          "base_uri": "https://localhost:8080/"
        },
        "id": "oe-tYfBFYRxK",
        "outputId": "d84eadd7-2b61-4f1b-b61d-96db53c9d491"
      },
      "execution_count": 28,
      "outputs": [
        {
          "output_type": "stream",
          "name": "stdout",
          "text": [
            "Hello World!\n"
          ]
        }
      ]
    },
    {
      "cell_type": "code",
      "source": [
        "i=0\n",
        "while i<10:\n",
        "  print(i, 'Hello World!')\n",
        "  i = i+1"
      ],
      "metadata": {
        "colab": {
          "base_uri": "https://localhost:8080/"
        },
        "id": "Uy_wm3seY_IE",
        "outputId": "bcc59440-a535-4b87-beb4-d4b905339ad8"
      },
      "execution_count": 30,
      "outputs": [
        {
          "output_type": "stream",
          "name": "stdout",
          "text": [
            "0 Hello World!\n",
            "1 Hello World!\n",
            "2 Hello World!\n",
            "3 Hello World!\n",
            "4 Hello World!\n",
            "5 Hello World!\n",
            "6 Hello World!\n",
            "7 Hello World!\n",
            "8 Hello World!\n",
            "9 Hello World!\n"
          ]
        }
      ]
    },
    {
      "cell_type": "code",
      "source": [
        "i=0\n",
        "while i<10:\n",
        "  if i == 6:\n",
        "    break\n",
        "  print(i, 'Hello World!')\n",
        "  i = i+1"
      ],
      "metadata": {
        "colab": {
          "base_uri": "https://localhost:8080/"
        },
        "id": "9wKV75_IZKat",
        "outputId": "0bcf45a1-549d-4257-852f-88df5102d671"
      },
      "execution_count": 32,
      "outputs": [
        {
          "output_type": "stream",
          "name": "stdout",
          "text": [
            "0 Hello World!\n",
            "1 Hello World!\n",
            "2 Hello World!\n",
            "3 Hello World!\n",
            "4 Hello World!\n",
            "5 Hello World!\n"
          ]
        }
      ]
    },
    {
      "cell_type": "code",
      "source": [
        "i=0\n",
        "while i<10:\n",
        "  i = i+1\n",
        "  if i == 6:\n",
        "    continue\n",
        "  print(i, 'Hello World!')"
      ],
      "metadata": {
        "colab": {
          "base_uri": "https://localhost:8080/"
        },
        "id": "9gg2ZljMZSva",
        "outputId": "de1a8a13-1152-4a50-fe08-f1872813b736"
      },
      "execution_count": 34,
      "outputs": [
        {
          "output_type": "stream",
          "name": "stdout",
          "text": [
            "1 Hello World!\n",
            "2 Hello World!\n",
            "3 Hello World!\n",
            "4 Hello World!\n",
            "5 Hello World!\n",
            "7 Hello World!\n",
            "8 Hello World!\n",
            "9 Hello World!\n",
            "10 Hello World!\n"
          ]
        }
      ]
    },
    {
      "cell_type": "code",
      "source": [
        "uname = input('Enter User Name')\n",
        "if uname != 'abcde':\n",
        "  print('Not registered User')\n",
        "else:\n",
        "  upass = input('Enter Password')\n",
        "  if upass != '12345':\n",
        "    print('Wrong Passwod')\n",
        "  else:\n",
        "    print('Login Successfull')"
      ],
      "metadata": {
        "colab": {
          "base_uri": "https://localhost:8080/"
        },
        "id": "AK-uHNx5aKT6",
        "outputId": "23d2db63-e29c-4c3a-b844-a1b80d98d2b3"
      },
      "execution_count": 37,
      "outputs": [
        {
          "output_type": "stream",
          "name": "stdout",
          "text": [
            "Enter User Namergwe\n",
            "Not registered User\n"
          ]
        }
      ]
    },
    {
      "cell_type": "code",
      "source": [
        "#When we want the system to ask again if user enters wrong username or password.\n",
        "\n",
        "uname = input('Enter User Name : ')\n",
        "while uname != 'abcde':\n",
        "  print('Not registered User. Try again..')\n",
        "  uname = input('Enter User Name : ')\n",
        "else:\n",
        "  upass = input('Enter Password : ')\n",
        "  while upass != '12345':\n",
        "    print('Wrong Passwod. Try again..')\n",
        "    upass = input('Enter Password : ')\n",
        "  else:\n",
        "    print('Login Successful')"
      ],
      "metadata": {
        "colab": {
          "base_uri": "https://localhost:8080/"
        },
        "id": "Sgv2E0sya8LA",
        "outputId": "c9381126-6031-4262-e267-55100fe5d397"
      },
      "execution_count": 42,
      "outputs": [
        {
          "output_type": "stream",
          "name": "stdout",
          "text": [
            "Enter User Name : ewgweg\n",
            "Not registered User. Try again..\n",
            "Enter User Name : aewfef\n",
            "Not registered User. Try again..\n",
            "Enter User Name : abcde\n",
            "Enter Password : ewege\n",
            "Wrong Passwod. Try again..\n",
            "Enter Password : rgwerag\n",
            "Wrong Passwod. Try again..\n",
            "Enter Password : 12345\n",
            "Login Successful\n"
          ]
        }
      ]
    },
    {
      "cell_type": "code",
      "source": [
        "#When we want to restrict till 3 tries.\n",
        "\n",
        "i = 0\n",
        "uname = input('Enter User Name : ')\n",
        "while uname != 'abcde':\n",
        "  print('Not registered User. Try again..')\n",
        "  uname = input('Enter User Name : ')\n",
        "  i += 1\n",
        "  if i == 2:\n",
        "    print('All attempt exhausted to enter username')\n",
        "    break\n",
        "else:\n",
        "  k = 0\n",
        "  upass = input('Enter Password : ')\n",
        "  while upass != '12345':\n",
        "    print('Wrong Passwod. Try again..')\n",
        "    upass = input('Enter Password : ')\n",
        "    k += 1\n",
        "    if k == 2:\n",
        "      print('All attempt exhausted to enter password')\n",
        "      break\n",
        "  else:\n",
        "    print('Login Successful')"
      ],
      "metadata": {
        "colab": {
          "base_uri": "https://localhost:8080/"
        },
        "id": "DKsNwjm7cGYw",
        "outputId": "7d904d5e-3f18-4e5d-e478-61476c02ebba"
      },
      "execution_count": 52,
      "outputs": [
        {
          "output_type": "stream",
          "name": "stdout",
          "text": [
            "Enter User Name : abcde\n",
            "Enter Password : wegef\n",
            "Wrong Passwod. Try again..\n",
            "Enter Password : aefef\n",
            "Wrong Passwod. Try again..\n",
            "Enter Password : 12345\n",
            "All attempt exhausted to enter password\n"
          ]
        }
      ]
    },
    {
      "cell_type": "markdown",
      "source": [
        "**Functions**"
      ],
      "metadata": {
        "id": "EcB7BwH5di95"
      }
    },
    {
      "cell_type": "code",
      "source": [
        "def myfunct():\n",
        "  print('Hi, How are you?')"
      ],
      "metadata": {
        "id": "C4XIwl8gdlOD"
      },
      "execution_count": 53,
      "outputs": []
    },
    {
      "cell_type": "code",
      "source": [
        "myfunct()\n",
        "myfunct()"
      ],
      "metadata": {
        "colab": {
          "base_uri": "https://localhost:8080/"
        },
        "id": "7DMcxpmyeJ0q",
        "outputId": "d6345c42-9d17-4025-8630-6090e402eac3"
      },
      "execution_count": 54,
      "outputs": [
        {
          "output_type": "stream",
          "name": "stdout",
          "text": [
            "Hi, How are you?\n",
            "Hi, How are you?\n"
          ]
        }
      ]
    },
    {
      "cell_type": "code",
      "source": [
        "def add_five(x):\n",
        "  print(x+5)"
      ],
      "metadata": {
        "id": "PnoRpwYpeM6V"
      },
      "execution_count": 55,
      "outputs": []
    },
    {
      "cell_type": "code",
      "source": [
        "add_five(10)\n",
        "add_five(7)"
      ],
      "metadata": {
        "colab": {
          "base_uri": "https://localhost:8080/"
        },
        "id": "Hw1kp1BneSrH",
        "outputId": "805e5b00-81ba-48ff-a374-09292473ef5d"
      },
      "execution_count": 57,
      "outputs": [
        {
          "output_type": "stream",
          "name": "stdout",
          "text": [
            "15\n",
            "12\n"
          ]
        }
      ]
    },
    {
      "cell_type": "code",
      "source": [
        "# Create a function to add two number\n",
        "\n",
        "def add_numbers(x,y):\n",
        "  print(x+y)\n",
        "\n",
        "add_numbers(4,7)\n",
        "add_numbers(10,40)"
      ],
      "metadata": {
        "colab": {
          "base_uri": "https://localhost:8080/"
        },
        "id": "DQKKw6eqfLEC",
        "outputId": "bf37e8e4-3b24-4cf4-9b27-b802efbe9f35"
      },
      "execution_count": 59,
      "outputs": [
        {
          "output_type": "stream",
          "name": "stdout",
          "text": [
            "11\n",
            "50\n"
          ]
        }
      ]
    },
    {
      "cell_type": "code",
      "source": [
        "# Create a function to check if a number is even or odd.\n",
        "\n",
        "def even_or_odd(number):\n",
        "  if number % 2 == 0:\n",
        "    print(number, \"is even\")\n",
        "  else:\n",
        "    print(number, \"is odd\")\n",
        "\n",
        "\n",
        "even_or_odd(3)\n",
        "even_or_odd(6)"
      ],
      "metadata": {
        "colab": {
          "base_uri": "https://localhost:8080/"
        },
        "id": "z_G-EQ8Eel7E",
        "outputId": "3723c518-a0a8-4b02-8f08-dc3574f07f2e"
      },
      "execution_count": 60,
      "outputs": [
        {
          "output_type": "stream",
          "name": "stdout",
          "text": [
            "3 is odd\n",
            "6 is even\n"
          ]
        }
      ]
    },
    {
      "cell_type": "code",
      "source": [
        "# Create a function to generate multiplication table of any number given as parameter.\n",
        "\n",
        "def multiplication_table(x):\n",
        "  for i in range (1,11):\n",
        "    #print(x , \"*\" , i , \"=\", x * i)\n",
        "    print(f'{x} * {i} =', x * i)\n",
        "\n",
        "multiplication_table(5)\n",
        "multiplication_table(7)"
      ],
      "metadata": {
        "colab": {
          "base_uri": "https://localhost:8080/"
        },
        "id": "ziWSxNXgfJ_S",
        "outputId": "b24d736b-50fe-451a-8051-1cfe374adf54"
      },
      "execution_count": 66,
      "outputs": [
        {
          "output_type": "stream",
          "name": "stdout",
          "text": [
            "5 * 1 = 5\n",
            "5 * 2 = 10\n",
            "5 * 3 = 15\n",
            "5 * 4 = 20\n",
            "5 * 5 = 25\n",
            "5 * 6 = 30\n",
            "5 * 7 = 35\n",
            "5 * 8 = 40\n",
            "5 * 9 = 45\n",
            "5 * 10 = 50\n",
            "7 * 1 = 7\n",
            "7 * 2 = 14\n",
            "7 * 3 = 21\n",
            "7 * 4 = 28\n",
            "7 * 5 = 35\n",
            "7 * 6 = 42\n",
            "7 * 7 = 49\n",
            "7 * 8 = 56\n",
            "7 * 9 = 63\n",
            "7 * 10 = 70\n"
          ]
        }
      ]
    },
    {
      "cell_type": "code",
      "source": [
        "# Create a function to return square value of a number\n",
        "\n",
        "def square_numbers(x):\n",
        "  print(x*x)\n",
        "\n",
        "square_numbers(4)\n",
        "square_numbers(10)"
      ],
      "metadata": {
        "colab": {
          "base_uri": "https://localhost:8080/"
        },
        "id": "mCy_o9L0fcY8",
        "outputId": "842154ce-46eb-4688-a712-e301a99cb477"
      },
      "execution_count": 61,
      "outputs": [
        {
          "output_type": "stream",
          "name": "stdout",
          "text": [
            "16\n",
            "100\n"
          ]
        }
      ]
    },
    {
      "cell_type": "code",
      "source": [
        "def add_numbers(x,y):\n",
        "  print(x+y)\n",
        "\n",
        "add_numbers(3,9)"
      ],
      "metadata": {
        "colab": {
          "base_uri": "https://localhost:8080/"
        },
        "id": "FkjCYfo7g5Kq",
        "outputId": "f57b8fdd-5f0c-4dd9-a719-7aa8eb795937"
      },
      "execution_count": 67,
      "outputs": [
        {
          "output_type": "stream",
          "name": "stdout",
          "text": [
            "12\n"
          ]
        }
      ]
    },
    {
      "cell_type": "code",
      "source": [
        "print (12*2)"
      ],
      "metadata": {
        "colab": {
          "base_uri": "https://localhost:8080/"
        },
        "id": "11pDizFZiLEH",
        "outputId": "8e24ef19-e003-4398-8718-5822e344304d"
      },
      "execution_count": 68,
      "outputs": [
        {
          "output_type": "stream",
          "name": "stdout",
          "text": [
            "24\n"
          ]
        }
      ]
    },
    {
      "cell_type": "code",
      "source": [
        "# Giving error as the function is just printing the value and not returning any value.\n",
        "add_numbers(3,9) *2"
      ],
      "metadata": {
        "colab": {
          "base_uri": "https://localhost:8080/",
          "height": 198
        },
        "id": "NPc0lSI2iQEf",
        "outputId": "0b7c26be-615a-4ea1-d18d-58c550bc26e8"
      },
      "execution_count": 71,
      "outputs": [
        {
          "output_type": "stream",
          "name": "stdout",
          "text": [
            "12\n"
          ]
        },
        {
          "output_type": "error",
          "ename": "TypeError",
          "evalue": "ignored",
          "traceback": [
            "\u001b[0;31m---------------------------------------------------------------------------\u001b[0m",
            "\u001b[0;31mTypeError\u001b[0m                                 Traceback (most recent call last)",
            "\u001b[0;32m<ipython-input-71-5ed2bc242bd9>\u001b[0m in \u001b[0;36m<cell line: 2>\u001b[0;34m()\u001b[0m\n\u001b[1;32m      1\u001b[0m \u001b[0;31m# Giving error as the function is just printing the value and not returning any value.\u001b[0m\u001b[0;34m\u001b[0m\u001b[0;34m\u001b[0m\u001b[0m\n\u001b[0;32m----> 2\u001b[0;31m \u001b[0madd_numbers\u001b[0m\u001b[0;34m(\u001b[0m\u001b[0;36m3\u001b[0m\u001b[0;34m,\u001b[0m\u001b[0;36m9\u001b[0m\u001b[0;34m)\u001b[0m \u001b[0;34m*\u001b[0m\u001b[0;36m2\u001b[0m\u001b[0;34m\u001b[0m\u001b[0;34m\u001b[0m\u001b[0m\n\u001b[0m",
            "\u001b[0;31mTypeError\u001b[0m: unsupported operand type(s) for *: 'NoneType' and 'int'"
          ]
        }
      ]
    },
    {
      "cell_type": "code",
      "source": [
        "# Now when we return the value, we can use the value.\n",
        "# To create\n",
        "def add_numbers(x,y):\n",
        "  return(x+y)\n",
        "\n",
        "add_numbers(3,9) *2"
      ],
      "metadata": {
        "colab": {
          "base_uri": "https://localhost:8080/"
        },
        "id": "PtzvEzm1iblB",
        "outputId": "8113553c-89a6-4a22-bf0b-ebf7913ea740"
      },
      "execution_count": 72,
      "outputs": [
        {
          "output_type": "execute_result",
          "data": {
            "text/plain": [
              "24"
            ]
          },
          "metadata": {},
          "execution_count": 72
        }
      ]
    },
    {
      "cell_type": "code",
      "source": [
        "# Retune value, not just print\n",
        "# Create a function to generate multiplication table of any number given as parameter.\n",
        "# we can return only 1 vlaue not 10 different values.\n",
        "# So, we have to convert 10 values to 1 value.\n",
        "# assign a variable and create a list.\n",
        "\n",
        "complte_list = []\n",
        "def multiplication_table(x):\n",
        "  for i in range (1,11):\n",
        "    output = (f'{x} * {i} =', x * i)\n",
        "    complte_list.append(output)\n",
        "  return complte_list\n",
        "\n",
        "multiplication_table(11)"
      ],
      "metadata": {
        "colab": {
          "base_uri": "https://localhost:8080/"
        },
        "id": "anGiHfW3ivIq",
        "outputId": "eb1122f0-909d-4168-fc67-7290bc04cca8"
      },
      "execution_count": 76,
      "outputs": [
        {
          "output_type": "execute_result",
          "data": {
            "text/plain": [
              "[('11 * 1 =', 11),\n",
              " ('11 * 2 =', 22),\n",
              " ('11 * 3 =', 33),\n",
              " ('11 * 4 =', 44),\n",
              " ('11 * 5 =', 55),\n",
              " ('11 * 6 =', 66),\n",
              " ('11 * 7 =', 77),\n",
              " ('11 * 8 =', 88),\n",
              " ('11 * 9 =', 99),\n",
              " ('11 * 10 =', 110)]"
            ]
          },
          "metadata": {},
          "execution_count": 76
        }
      ]
    },
    {
      "cell_type": "code",
      "source": [
        "values = [5,9,3,2,6,7,8,7,1]\n",
        "# Create a function to return list of odd or even numbers by checking each number in the list\n",
        "\n",
        "def even_or_odd_number(values):\n",
        "  odd_even_list = []\n",
        "  for x in values:\n",
        "    if x % 2 == 0:\n",
        "      odd_even_list.append([x, ' - Even'])\n",
        "    else:\n",
        "      odd_even_list.append([x, ' - Odd'])\n",
        "  return odd_even_list\n",
        "\n",
        "even_or_odd_number(values)"
      ],
      "metadata": {
        "colab": {
          "base_uri": "https://localhost:8080/"
        },
        "id": "eV1WY1qsjrm4",
        "outputId": "cfc188a8-7680-4f2b-9331-db52627c005c"
      },
      "execution_count": 94,
      "outputs": [
        {
          "output_type": "execute_result",
          "data": {
            "text/plain": [
              "[[5, ' - Odd'],\n",
              " [9, ' - Odd'],\n",
              " [3, ' - Odd'],\n",
              " [2, ' - Even'],\n",
              " [6, ' - Even'],\n",
              " [7, ' - Odd'],\n",
              " [8, ' - Even'],\n",
              " [7, ' - Odd'],\n",
              " [1, ' - Odd']]"
            ]
          },
          "metadata": {},
          "execution_count": 94
        }
      ]
    },
    {
      "cell_type": "code",
      "source": [
        "values = [544,934,324,224,65,711,28,447,144]\n",
        "even_or_odd_number(values)"
      ],
      "metadata": {
        "colab": {
          "base_uri": "https://localhost:8080/"
        },
        "id": "U-VutZoDlnJk",
        "outputId": "a04f5105-0013-482f-8bea-0970605109f4"
      },
      "execution_count": 95,
      "outputs": [
        {
          "output_type": "execute_result",
          "data": {
            "text/plain": [
              "[[544, ' - Even'],\n",
              " [934, ' - Even'],\n",
              " [324, ' - Even'],\n",
              " [224, ' - Even'],\n",
              " [65, ' - Odd'],\n",
              " [711, ' - Odd'],\n",
              " [28, ' - Even'],\n",
              " [447, ' - Odd'],\n",
              " [144, ' - Even']]"
            ]
          },
          "metadata": {},
          "execution_count": 95
        }
      ]
    },
    {
      "cell_type": "code",
      "source": [
        "# Seperate even and odd in different list.\n",
        "\n",
        "def even_or_odd_number(values):\n",
        "  odd_numbers = []\n",
        "  even_numbers = []\n",
        "\n",
        "  for x in values:\n",
        "    if x % 2 == 0:\n",
        "      even_numbers.append(x)\n",
        "    else:\n",
        "      odd_numbers.append(x)\n",
        "  return{'Odd Numbers' : odd_numbers, 'Even Numbers' : even_numbers}\n",
        "\n",
        "print(even_or_odd_number([5,9,3,2,6,7,8,7,1]))\n",
        "print(even_or_odd_number([544,934,324,224,65,711,28,447,144]))"
      ],
      "metadata": {
        "colab": {
          "base_uri": "https://localhost:8080/"
        },
        "id": "YpBrLVkPmUCz",
        "outputId": "b9ac578b-7c29-4d81-ad16-3f9bb046221d"
      },
      "execution_count": 101,
      "outputs": [
        {
          "output_type": "stream",
          "name": "stdout",
          "text": [
            "{'Odd Numbers': [5, 9, 3, 7, 7, 1], 'Even Numbers': [2, 6, 8]}\n",
            "{'Odd Numbers': [65, 711, 447], 'Even Numbers': [544, 934, 324, 224, 28, 144]}\n"
          ]
        }
      ]
    },
    {
      "cell_type": "markdown",
      "source": [
        "**Lambda Functions**"
      ],
      "metadata": {
        "id": "geWRnZiNpoR7"
      }
    },
    {
      "cell_type": "code",
      "source": [
        "def add_two_number(x,y):\n",
        "  return (x+y)\n",
        "\n",
        "add_two_number(3,9)"
      ],
      "metadata": {
        "colab": {
          "base_uri": "https://localhost:8080/"
        },
        "id": "mT0hLW5Epq8_",
        "outputId": "e23d8c47-6afa-4ed6-c8c8-edd49829e903"
      },
      "execution_count": 102,
      "outputs": [
        {
          "output_type": "execute_result",
          "data": {
            "text/plain": [
              "12"
            ]
          },
          "metadata": {},
          "execution_count": 102
        }
      ]
    },
    {
      "cell_type": "code",
      "source": [
        "add_two_numbers = lambda x,y : x+y\n",
        "\n",
        "print(add_two_numbers(4,2))\n",
        "print(add_two_numbers(7,5))\n",
        "print(add_two_numbers(4,7))"
      ],
      "metadata": {
        "colab": {
          "base_uri": "https://localhost:8080/"
        },
        "id": "Suk2DNs9pzIv",
        "outputId": "8b8845e2-d09d-4953-d9a3-6d328dbd54d0"
      },
      "execution_count": 103,
      "outputs": [
        {
          "output_type": "stream",
          "name": "stdout",
          "text": [
            "6\n",
            "12\n",
            "11\n"
          ]
        }
      ]
    },
    {
      "cell_type": "code",
      "source": [
        "# Create a lambda function to return square root of a number.\n",
        "\n",
        "squareroot_number = lambda x : x** 0.5\n",
        "\n",
        "print(squareroot_number(4))\n",
        "print(squareroot_number(25))\n",
        "print(squareroot_number(625))"
      ],
      "metadata": {
        "colab": {
          "base_uri": "https://localhost:8080/"
        },
        "id": "81JxRhj6qAxZ",
        "outputId": "df1f99df-f1b9-446b-8f9c-c1d0577c0f74"
      },
      "execution_count": 109,
      "outputs": [
        {
          "output_type": "stream",
          "name": "stdout",
          "text": [
            "2.0\n",
            "5.0\n",
            "25.0\n"
          ]
        }
      ]
    },
    {
      "cell_type": "code",
      "source": [
        "# Create a lambda function to return cube of a number.\n",
        "\n",
        "cube_number = lambda x : x*x*x\n",
        "\n",
        "print(cube_number(4))\n",
        "print(cube_number(5))\n",
        "print(cube_number(7))"
      ],
      "metadata": {
        "colab": {
          "base_uri": "https://localhost:8080/"
        },
        "id": "aMuslaocqTDe",
        "outputId": "86ef80d9-21fc-4dc4-ff7c-70f0b44c2145"
      },
      "execution_count": 110,
      "outputs": [
        {
          "output_type": "stream",
          "name": "stdout",
          "text": [
            "64\n",
            "125\n",
            "343\n"
          ]
        }
      ]
    },
    {
      "cell_type": "code",
      "source": [
        "# Create a lambda function to add 10 to the parameter passed.\n",
        "\n",
        "add10_number = lambda x : x+10\n",
        "\n",
        "print(add10_number(4))\n",
        "print(add10_number(5))\n",
        "print(add10_number(7))"
      ],
      "metadata": {
        "colab": {
          "base_uri": "https://localhost:8080/"
        },
        "id": "kLDzDsuvqS2b",
        "outputId": "fca3de5e-6caf-4e65-aa71-067d70566adf"
      },
      "execution_count": 111,
      "outputs": [
        {
          "output_type": "stream",
          "name": "stdout",
          "text": [
            "14\n",
            "15\n",
            "17\n"
          ]
        }
      ]
    },
    {
      "cell_type": "code",
      "source": [
        "# Create a lambda function to check a number as even or odd.\n",
        "\n",
        "even_odd_number = lambda x : x % 2\n",
        "\n",
        "print(even_odd_number(4))\n"
      ],
      "metadata": {
        "colab": {
          "base_uri": "https://localhost:8080/"
        },
        "id": "GMMEIoceq_Y7",
        "outputId": "6f7d952f-32e8-4e3a-88da-d4aa70bcc826"
      },
      "execution_count": 112,
      "outputs": [
        {
          "output_type": "stream",
          "name": "stdout",
          "text": [
            "0\n"
          ]
        }
      ]
    },
    {
      "cell_type": "code",
      "source": [
        "# Create a lambda function to check a collection of number as even or odd."
      ],
      "metadata": {
        "id": "-xAgKmpcrJ7V"
      },
      "execution_count": null,
      "outputs": []
    }
  ]
}