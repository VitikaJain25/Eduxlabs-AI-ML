{
  "nbformat": 4,
  "nbformat_minor": 0,
  "metadata": {
    "colab": {
      "provenance": [],
      "authorship_tag": "ABX9TyPUiLwLlwOCYJL1Zq0sZLgm",
      "include_colab_link": true
    },
    "kernelspec": {
      "name": "python3",
      "display_name": "Python 3"
    },
    "language_info": {
      "name": "python"
    }
  },
  "cells": [
    {
      "cell_type": "markdown",
      "metadata": {
        "id": "view-in-github",
        "colab_type": "text"
      },
      "source": [
        "<a href=\"https://colab.research.google.com/github/VitikaJain25/Eduxlabs-AI-ML/blob/main/eict_python_numpy.ipynb\" target=\"_parent\"><img src=\"https://colab.research.google.com/assets/colab-badge.svg\" alt=\"Open In Colab\"/></a>"
      ]
    },
    {
      "cell_type": "markdown",
      "source": [
        "**Python Libraries for Data Science**\n",
        "* Numpy\n",
        "* Pandas\n",
        "* Matplotlib"
      ],
      "metadata": {
        "id": "4Sblkj4GwHMy"
      }
    },
    {
      "cell_type": "code",
      "execution_count": 1,
      "metadata": {
        "colab": {
          "base_uri": "https://localhost:8080/"
        },
        "id": "6eiVa0qKv9rQ",
        "outputId": "8520e521-9df6-4977-e07a-9ddb9a715f8d"
      },
      "outputs": [
        {
          "output_type": "stream",
          "name": "stdout",
          "text": [
            "34\n"
          ]
        }
      ],
      "source": [
        "#Numpy - Numerical Python - We use it for numerical calculations.\n",
        "\n",
        "a = 17\n",
        "b = 2\n",
        "\n",
        "print(a*b)"
      ]
    },
    {
      "cell_type": "code",
      "source": [
        "# We can do calculation as done above (without numpy). Than why we need numpy??"
      ],
      "metadata": {
        "id": "Xk4KnlZ_wh-9"
      },
      "execution_count": null,
      "outputs": []
    },
    {
      "cell_type": "code",
      "source": [
        "# Getting error.\n",
        "\n",
        "l1 = [2,3,4,5,6]\n",
        "b = 2\n",
        "\n",
        "print(l1 * b)\n",
        "print(l1 / b)"
      ],
      "metadata": {
        "colab": {
          "base_uri": "https://localhost:8080/",
          "height": 215
        },
        "id": "zuIFiqi7wpz7",
        "outputId": "0c4da7dc-54d3-47f1-d099-0c139dae1eab"
      },
      "execution_count": 2,
      "outputs": [
        {
          "output_type": "stream",
          "name": "stdout",
          "text": [
            "[2, 3, 4, 5, 6, 2, 3, 4, 5, 6]\n"
          ]
        },
        {
          "output_type": "error",
          "ename": "TypeError",
          "evalue": "ignored",
          "traceback": [
            "\u001b[0;31m---------------------------------------------------------------------------\u001b[0m",
            "\u001b[0;31mTypeError\u001b[0m                                 Traceback (most recent call last)",
            "\u001b[0;32m<ipython-input-2-8142dc81cc10>\u001b[0m in \u001b[0;36m<cell line: 5>\u001b[0;34m()\u001b[0m\n\u001b[1;32m      3\u001b[0m \u001b[0;34m\u001b[0m\u001b[0m\n\u001b[1;32m      4\u001b[0m \u001b[0mprint\u001b[0m\u001b[0;34m(\u001b[0m\u001b[0ml1\u001b[0m \u001b[0;34m*\u001b[0m \u001b[0mb\u001b[0m\u001b[0;34m)\u001b[0m\u001b[0;34m\u001b[0m\u001b[0;34m\u001b[0m\u001b[0m\n\u001b[0;32m----> 5\u001b[0;31m \u001b[0mprint\u001b[0m\u001b[0;34m(\u001b[0m\u001b[0ml1\u001b[0m \u001b[0;34m/\u001b[0m \u001b[0mb\u001b[0m\u001b[0;34m)\u001b[0m\u001b[0;34m\u001b[0m\u001b[0;34m\u001b[0m\u001b[0m\n\u001b[0m",
            "\u001b[0;31mTypeError\u001b[0m: unsupported operand type(s) for /: 'list' and 'int'"
          ]
        }
      ]
    },
    {
      "cell_type": "code",
      "source": [
        "# Not getting error.\n",
        "\n",
        "import numpy as np\n",
        "n1 = np.array([2,3,4,5,6])\n",
        "b = 2\n",
        "\n",
        "print(n1 * b)\n",
        "print(n1 / b)"
      ],
      "metadata": {
        "colab": {
          "base_uri": "https://localhost:8080/"
        },
        "id": "HLmkwkwCwzli",
        "outputId": "b3a638ec-c662-4a53-8fd9-4ad72ace817d"
      },
      "execution_count": 6,
      "outputs": [
        {
          "output_type": "stream",
          "name": "stdout",
          "text": [
            "[ 4  6  8 10 12]\n",
            "[1.  1.5 2.  2.5 3. ]\n"
          ]
        }
      ]
    },
    {
      "cell_type": "code",
      "source": [
        "# If we put as a list, it converts to 1D as list cannot capture multi dimentional array.\n",
        "l2 = [[6,8,9,2],[4,5,7,1]]\n",
        "print(l2)"
      ],
      "metadata": {
        "colab": {
          "base_uri": "https://localhost:8080/"
        },
        "id": "DfVY7gi2xJZ0",
        "outputId": "1e68caa7-8866-4f51-eaf1-2ac7a016d55d"
      },
      "execution_count": 7,
      "outputs": [
        {
          "output_type": "stream",
          "name": "stdout",
          "text": [
            "[[6, 8, 9, 2], [4, 5, 7, 1]]\n"
          ]
        }
      ]
    },
    {
      "cell_type": "code",
      "source": [
        "# If we capture in numpy array, it will capture as in the same form(2D in this case).\n",
        "# Numpy can handle multi dimentional array.\n",
        "\n",
        "n2 = np.array([[6,8,9,2],[4,5,7,1]])\n",
        "print(n2)"
      ],
      "metadata": {
        "colab": {
          "base_uri": "https://localhost:8080/"
        },
        "id": "RrtcGl_AxyYu",
        "outputId": "4109da10-acf7-4ffe-fdf5-9f5171840c18"
      },
      "execution_count": 8,
      "outputs": [
        {
          "output_type": "stream",
          "name": "stdout",
          "text": [
            "[[6 8 9 2]\n",
            " [4 5 7 1]]\n"
          ]
        }
      ]
    },
    {
      "cell_type": "code",
      "source": [
        "print(n2.ndim)\n",
        "print(n2.shape)\n",
        "print(n2.size)"
      ],
      "metadata": {
        "colab": {
          "base_uri": "https://localhost:8080/"
        },
        "id": "FpEJ7E-PyNvp",
        "outputId": "1ce561e6-4969-45da-e3e5-fbc19b96f63b"
      },
      "execution_count": 9,
      "outputs": [
        {
          "output_type": "stream",
          "name": "stdout",
          "text": [
            "2\n",
            "(2, 4)\n",
            "8\n"
          ]
        }
      ]
    },
    {
      "cell_type": "code",
      "source": [
        "print(np.sum(n2))\n",
        "print(np.prod(n2))\n",
        "print(np.mean(n2))\n",
        "print(np.min(n2))\n",
        "print(np.max(n2))\n",
        "print(np.std(n2))\n",
        "print(np.var(n2))\n",
        "print(np.argmin(n2))\n",
        "print(np.argmax(n2))"
      ],
      "metadata": {
        "colab": {
          "base_uri": "https://localhost:8080/"
        },
        "id": "ZzirnDHpyYB2",
        "outputId": "ce545874-49e4-4313-cd5b-edccd0fd1de6"
      },
      "execution_count": 11,
      "outputs": [
        {
          "output_type": "stream",
          "name": "stdout",
          "text": [
            "42\n",
            "120960\n",
            "5.25\n",
            "1\n",
            "9\n",
            "2.6339134382131846\n",
            "6.9375\n",
            "7\n",
            "2\n"
          ]
        }
      ]
    },
    {
      "cell_type": "code",
      "source": [
        "print(n2)"
      ],
      "metadata": {
        "colab": {
          "base_uri": "https://localhost:8080/"
        },
        "id": "xdKSrKVIy1zD",
        "outputId": "c33bb77c-1a1e-4aa7-c7cb-c4ec2e91cde4"
      },
      "execution_count": 12,
      "outputs": [
        {
          "output_type": "stream",
          "name": "stdout",
          "text": [
            "[[6 8 9 2]\n",
            " [4 5 7 1]]\n"
          ]
        }
      ]
    },
    {
      "cell_type": "code",
      "source": [
        "# Axis value can be 0 or 1\n",
        "# Axis = 1 - It will perform calculations for each row\n",
        "# Axis = 0 - It will perform calculations for each column\n",
        "\n",
        "print(np.sum(n2, axis = 1))\n",
        "print(np.prod(n2, axis = 1))\n",
        "print(np.mean(n2, axis = 1))\n",
        "print(np.min(n2, axis = 1))\n",
        "print(np.max(n2, axis = 1))\n",
        "print(np.std(n2, axis = 1))\n",
        "print(np.var(n2, axis = 1))\n",
        "print(np.argmin(n2, axis = 1))\n",
        "print(np.argmax(n2, axis = 1))"
      ],
      "metadata": {
        "colab": {
          "base_uri": "https://localhost:8080/"
        },
        "id": "VR3TvwMOzOnn",
        "outputId": "2bb24074-a5fd-4519-8d79-636f883367e8"
      },
      "execution_count": 13,
      "outputs": [
        {
          "output_type": "stream",
          "name": "stdout",
          "text": [
            "[25 17]\n",
            "[864 140]\n",
            "[6.25 4.25]\n",
            "[2 1]\n",
            "[9 7]\n",
            "[2.68095132 2.16506351]\n",
            "[7.1875 4.6875]\n",
            "[3 3]\n",
            "[2 2]\n"
          ]
        }
      ]
    },
    {
      "cell_type": "code",
      "source": [
        "# Axis = 0 - It will perform calculations for each column\n",
        "\n",
        "print(np.sum(n2, axis = 0))\n",
        "print(np.prod(n2, axis = 0))\n",
        "print(np.mean(n2, axis = 0))\n",
        "print(np.min(n2, axis = 0))\n",
        "print(np.max(n2, axis = 0))\n",
        "print(np.std(n2, axis = 0))\n",
        "print(np.var(n2, axis = 0))\n",
        "print(np.argmin(n2, axis = 0))\n",
        "print(np.argmax(n2, axis = 0))"
      ],
      "metadata": {
        "colab": {
          "base_uri": "https://localhost:8080/"
        },
        "id": "dnNK_W8jzj90",
        "outputId": "4be8daad-00b2-436d-8473-78250dced0b4"
      },
      "execution_count": 14,
      "outputs": [
        {
          "output_type": "stream",
          "name": "stdout",
          "text": [
            "[10 13 16  3]\n",
            "[24 40 63  2]\n",
            "[5.  6.5 8.  1.5]\n",
            "[4 5 7 1]\n",
            "[6 8 9 2]\n",
            "[1.  1.5 1.  0.5]\n",
            "[1.   2.25 1.   0.25]\n",
            "[1 1 1 1]\n",
            "[0 0 0 0]\n"
          ]
        }
      ]
    }
  ]
}
