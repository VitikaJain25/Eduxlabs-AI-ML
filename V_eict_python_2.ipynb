{
  "nbformat": 4,
  "nbformat_minor": 0,
  "metadata": {
    "colab": {
      "provenance": [],
      "authorship_tag": "ABX9TyPzDe6A/tdMrz95EwmHwiXS",
      "include_colab_link": true
    },
    "kernelspec": {
      "name": "python3",
      "display_name": "Python 3"
    },
    "language_info": {
      "name": "python"
    }
  },
  "cells": [
    {
      "cell_type": "markdown",
      "metadata": {
        "id": "view-in-github",
        "colab_type": "text"
      },
      "source": [
        "<a href=\"https://colab.research.google.com/github/VitikaJain25/Eduxlabs-AI-ML/blob/main/eict_python_2.ipynb\" target=\"_parent\"><img src=\"https://colab.research.google.com/assets/colab-badge.svg\" alt=\"Open In Colab\"/></a>"
      ]
    },
    {
      "cell_type": "markdown",
      "source": [
        "**Operators**\n",
        "\n",
        "\n",
        "\n",
        "*   **Airthmetic Operators**\n",
        "\n"
      ],
      "metadata": {
        "id": "asItrJecHsAc"
      }
    },
    {
      "cell_type": "code",
      "execution_count": 2,
      "metadata": {
        "colab": {
          "base_uri": "https://localhost:8080/"
        },
        "id": "QW-0vLb3Hbnk",
        "outputId": "37dec114-2853-41a3-b166-62316707ee3d"
      },
      "outputs": [
        {
          "output_type": "stream",
          "name": "stdout",
          "text": [
            "22\n",
            "12\n",
            "85\n",
            "3.4\n",
            "1419857\n",
            "3\n",
            "2\n"
          ]
        }
      ],
      "source": [
        "a = 17\n",
        "b = 5\n",
        "\n",
        "print(a + b)\n",
        "print(a - b)\n",
        "print(a * b)\n",
        "print(a / b)\n",
        "print(a ** b) # raise to the power\n",
        "print(a // b) # Floor division (getting quotient)\n",
        "print(a % b) # Modulus division (getting remainder)"
      ]
    },
    {
      "cell_type": "markdown",
      "source": [
        "\n",
        "\n",
        "*   **Comparision Operators** - to compare 2 different values.\n",
        "\n"
      ],
      "metadata": {
        "id": "uDSUtCiDIYmW"
      }
    },
    {
      "cell_type": "code",
      "source": [
        "print(a == b)\n",
        "print(a != b)\n",
        "print(a > b)\n",
        "print(a < b)\n",
        "print(a >= b)\n",
        "print(a <= b)"
      ],
      "metadata": {
        "colab": {
          "base_uri": "https://localhost:8080/"
        },
        "id": "gcPxJGnLIdV7",
        "outputId": "3179329a-4e05-4221-9626-5220d70d769c"
      },
      "execution_count": 6,
      "outputs": [
        {
          "output_type": "stream",
          "name": "stdout",
          "text": [
            "False\n",
            "True\n",
            "True\n",
            "False\n",
            "True\n",
            "False\n"
          ]
        }
      ]
    },
    {
      "cell_type": "markdown",
      "source": [
        "* **Assignment Operator**\n",
        "\n"
      ],
      "metadata": {
        "id": "vqjOs4XOJD_V"
      }
    },
    {
      "cell_type": "code",
      "source": [
        "x = 9\n",
        "print(x)"
      ],
      "metadata": {
        "colab": {
          "base_uri": "https://localhost:8080/"
        },
        "id": "LLRtRlsrI317",
        "outputId": "6ee1688c-069d-449b-fbdb-3e08dfc0cba6"
      },
      "execution_count": 25,
      "outputs": [
        {
          "output_type": "stream",
          "name": "stdout",
          "text": [
            "9\n"
          ]
        }
      ]
    },
    {
      "cell_type": "code",
      "source": [
        "x += 2 # On current value of x, add 2.\n",
        "print(x)"
      ],
      "metadata": {
        "colab": {
          "base_uri": "https://localhost:8080/"
        },
        "id": "32WNVtESJL38",
        "outputId": "251efd38-2204-4ddd-9e5a-16fabebe330c"
      },
      "execution_count": 26,
      "outputs": [
        {
          "output_type": "stream",
          "name": "stdout",
          "text": [
            "11\n"
          ]
        }
      ]
    },
    {
      "cell_type": "code",
      "source": [
        "x -= 3 # On current value of x, subtract 3.\n",
        "print(x)"
      ],
      "metadata": {
        "colab": {
          "base_uri": "https://localhost:8080/"
        },
        "id": "1MN4p9HxJUfH",
        "outputId": "49a3e5a1-179d-41dd-958a-d403dcb4fe9e"
      },
      "execution_count": 27,
      "outputs": [
        {
          "output_type": "stream",
          "name": "stdout",
          "text": [
            "8\n"
          ]
        }
      ]
    },
    {
      "cell_type": "code",
      "source": [
        "x *= 4 # On current value of x, multiply 4.\n",
        "print(x)"
      ],
      "metadata": {
        "colab": {
          "base_uri": "https://localhost:8080/"
        },
        "id": "tUOPZYl2JXvF",
        "outputId": "57e96b08-09fb-4cc9-9d39-82bc68990b84"
      },
      "execution_count": 28,
      "outputs": [
        {
          "output_type": "stream",
          "name": "stdout",
          "text": [
            "32\n"
          ]
        }
      ]
    },
    {
      "cell_type": "code",
      "source": [
        "x /= 3 # On current value of x, divide by 3.\n",
        "print(x)"
      ],
      "metadata": {
        "colab": {
          "base_uri": "https://localhost:8080/"
        },
        "id": "Ws7z0xtYJajh",
        "outputId": "65f8d9cc-3bca-457d-bf86-6db4ec9a7c28"
      },
      "execution_count": 29,
      "outputs": [
        {
          "output_type": "stream",
          "name": "stdout",
          "text": [
            "10.666666666666666\n"
          ]
        }
      ]
    },
    {
      "cell_type": "code",
      "source": [
        "x **= 2\n",
        "print(x)"
      ],
      "metadata": {
        "colab": {
          "base_uri": "https://localhost:8080/"
        },
        "id": "gpD-UfGCKPCC",
        "outputId": "6f4613c4-ca3a-48d4-c183-1dbc35f97968"
      },
      "execution_count": 30,
      "outputs": [
        {
          "output_type": "stream",
          "name": "stdout",
          "text": [
            "113.77777777777777\n"
          ]
        }
      ]
    },
    {
      "cell_type": "code",
      "source": [
        "x //= 3\n",
        "print(x)"
      ],
      "metadata": {
        "colab": {
          "base_uri": "https://localhost:8080/"
        },
        "id": "RkmchLHmKX3G",
        "outputId": "7f474c2d-3089-40f3-f94f-f7f80b319b29"
      },
      "execution_count": 31,
      "outputs": [
        {
          "output_type": "stream",
          "name": "stdout",
          "text": [
            "37.0\n"
          ]
        }
      ]
    },
    {
      "cell_type": "code",
      "source": [
        "x %= 4\n",
        "print(x)"
      ],
      "metadata": {
        "colab": {
          "base_uri": "https://localhost:8080/"
        },
        "id": "RcCsvhAVKY5C",
        "outputId": "edba8494-b045-4b29-b533-56b53f1dad48"
      },
      "execution_count": 32,
      "outputs": [
        {
          "output_type": "stream",
          "name": "stdout",
          "text": [
            "1.0\n"
          ]
        }
      ]
    },
    {
      "cell_type": "markdown",
      "source": [
        "* **Logical Operators**"
      ],
      "metadata": {
        "id": "8aSO68s2KJdu"
      }
    },
    {
      "cell_type": "code",
      "source": [
        "# and operator\n",
        "a = 7\n",
        "b = 5\n",
        "\n",
        "print(a > 6 and b > 6)"
      ],
      "metadata": {
        "colab": {
          "base_uri": "https://localhost:8080/"
        },
        "id": "I_42aD5XKi2T",
        "outputId": "af771fa4-b790-4790-9c62-5f27ebee64e4"
      },
      "execution_count": 34,
      "outputs": [
        {
          "output_type": "stream",
          "name": "stdout",
          "text": [
            "False\n"
          ]
        }
      ]
    },
    {
      "cell_type": "code",
      "source": [
        "print(a > 6 and b < 6) #If both conditions are true, only than it will give final result as True"
      ],
      "metadata": {
        "colab": {
          "base_uri": "https://localhost:8080/"
        },
        "id": "dJU1IHW4Kv2X",
        "outputId": "812974f3-5abf-4e26-a6d9-fe89ba4ca2a1"
      },
      "execution_count": 35,
      "outputs": [
        {
          "output_type": "stream",
          "name": "stdout",
          "text": [
            "True\n"
          ]
        }
      ]
    },
    {
      "cell_type": "code",
      "source": [
        "print(True and True)\n",
        "print(True and False)\n",
        "print(False and True)\n",
        "print(False and False)"
      ],
      "metadata": {
        "colab": {
          "base_uri": "https://localhost:8080/"
        },
        "id": "6iXmFiGqLA3i",
        "outputId": "be62d8ec-580b-4856-992f-9d56c54c7a95"
      },
      "execution_count": 36,
      "outputs": [
        {
          "output_type": "stream",
          "name": "stdout",
          "text": [
            "True\n",
            "False\n",
            "False\n",
            "False\n"
          ]
        }
      ]
    },
    {
      "cell_type": "code",
      "source": [
        "# OR operator\n",
        "a = 7\n",
        "b = 5\n",
        "\n",
        "print(a > 6 or b > 6)"
      ],
      "metadata": {
        "colab": {
          "base_uri": "https://localhost:8080/"
        },
        "id": "3j8AFzteLR4u",
        "outputId": "f53e010f-45b8-4ad1-8755-f9ce51eb73ef"
      },
      "execution_count": 37,
      "outputs": [
        {
          "output_type": "stream",
          "name": "stdout",
          "text": [
            "True\n"
          ]
        }
      ]
    },
    {
      "cell_type": "code",
      "source": [
        "print(a > 6 or b < 6)"
      ],
      "metadata": {
        "colab": {
          "base_uri": "https://localhost:8080/"
        },
        "id": "TfEQsAohLcDv",
        "outputId": "84a493c5-e77e-42bb-e28c-ada0f5aebf88"
      },
      "execution_count": 38,
      "outputs": [
        {
          "output_type": "stream",
          "name": "stdout",
          "text": [
            "True\n"
          ]
        }
      ]
    },
    {
      "cell_type": "code",
      "source": [
        "print(True or True)\n",
        "print(True or False)\n",
        "print(False or True)\n",
        "print(False or False)"
      ],
      "metadata": {
        "colab": {
          "base_uri": "https://localhost:8080/"
        },
        "id": "qrTbrnSGLf6K",
        "outputId": "1e8ef7f2-4b78-4537-846b-82bc16bc6f5b"
      },
      "execution_count": 39,
      "outputs": [
        {
          "output_type": "stream",
          "name": "stdout",
          "text": [
            "True\n",
            "True\n",
            "True\n",
            "False\n"
          ]
        }
      ]
    },
    {
      "cell_type": "markdown",
      "source": [
        "* **Bitwise Operator** - used for bit by bit calculations.\n",
        "\n",
        "**bitwise and is \"&\"**\n",
        "\n",
        "**logical and is \"AND\"**"
      ],
      "metadata": {
        "id": "pmegze-ZLl7N"
      }
    },
    {
      "cell_type": "code",
      "source": [
        "print(3 & 5)\n",
        "print(3 and 5)"
      ],
      "metadata": {
        "colab": {
          "base_uri": "https://localhost:8080/"
        },
        "id": "WpHqcSjPLp0B",
        "outputId": "5cbb02f7-e8f9-4d33-cd9e-cbb24581fd44"
      },
      "execution_count": 40,
      "outputs": [
        {
          "output_type": "stream",
          "name": "stdout",
          "text": [
            "1\n",
            "5\n"
          ]
        }
      ]
    },
    {
      "cell_type": "code",
      "source": [
        "x = 10\n",
        "y = 5\n",
        "\n",
        "print(x > 5 & y < 5) #Bitwise And\n",
        "print(x > 5 and y < 5) #Logical And"
      ],
      "metadata": {
        "colab": {
          "base_uri": "https://localhost:8080/"
        },
        "id": "Tg9RSJqUOReu",
        "outputId": "ad7661eb-df45-49e7-fec0-5794164d4fec"
      },
      "execution_count": 47,
      "outputs": [
        {
          "output_type": "stream",
          "name": "stdout",
          "text": [
            "False\n",
            "False\n"
          ]
        }
      ]
    },
    {
      "cell_type": "code",
      "source": [
        "print(x > 5 | y < 5) #Biwise OR\n",
        "print(x > 5 or y < 5) #Logical OR"
      ],
      "metadata": {
        "colab": {
          "base_uri": "https://localhost:8080/"
        },
        "id": "THmo--m6OkQF",
        "outputId": "bee500e2-c465-4bb8-b166-82fc89ffb984"
      },
      "execution_count": 44,
      "outputs": [
        {
          "output_type": "stream",
          "name": "stdout",
          "text": [
            "False\n",
            "True\n"
          ]
        }
      ]
    },
    {
      "cell_type": "markdown",
      "source": [
        "* **Membership Operator**"
      ],
      "metadata": {
        "id": "C0D3rf9dcGXh"
      }
    },
    {
      "cell_type": "code",
      "source": [
        "vals = [6,9,2,1,5,4]\n",
        "\n",
        "print(5 in vals)\n",
        "print(15 in vals)"
      ],
      "metadata": {
        "colab": {
          "base_uri": "https://localhost:8080/"
        },
        "id": "de7jQXcucFuQ",
        "outputId": "41c616c9-b51c-4fc3-ec58-f880f990eecf"
      },
      "execution_count": 85,
      "outputs": [
        {
          "output_type": "stream",
          "name": "stdout",
          "text": [
            "True\n",
            "False\n"
          ]
        }
      ]
    },
    {
      "cell_type": "code",
      "source": [
        "print(5 not in vals)\n",
        "print(15 not in vals)"
      ],
      "metadata": {
        "colab": {
          "base_uri": "https://localhost:8080/"
        },
        "id": "KRqaWEG-cTK3",
        "outputId": "23952055-81a6-40ed-9f57-718e9611e831"
      },
      "execution_count": 86,
      "outputs": [
        {
          "output_type": "stream",
          "name": "stdout",
          "text": [
            "False\n",
            "True\n"
          ]
        }
      ]
    },
    {
      "cell_type": "code",
      "source": [
        "s = 'Hello, How are you?'\n",
        "\n",
        "print('Hello' in s)\n",
        "print('Hey' in s)"
      ],
      "metadata": {
        "colab": {
          "base_uri": "https://localhost:8080/"
        },
        "id": "5dCHemYJcV4z",
        "outputId": "03dfd05e-a71b-44f7-a580-7feedaccccb3"
      },
      "execution_count": 87,
      "outputs": [
        {
          "output_type": "stream",
          "name": "stdout",
          "text": [
            "True\n",
            "False\n"
          ]
        }
      ]
    },
    {
      "cell_type": "code",
      "source": [
        "s = 'Hello, How are you?'\n",
        "\n",
        "print('Hello' not in s)\n",
        "print('Hey' not in s)"
      ],
      "metadata": {
        "colab": {
          "base_uri": "https://localhost:8080/"
        },
        "id": "EizaBCtuchMk",
        "outputId": "23d48374-278b-4d8f-e918-a2076d9efb14"
      },
      "execution_count": 88,
      "outputs": [
        {
          "output_type": "stream",
          "name": "stdout",
          "text": [
            "False\n",
            "True\n"
          ]
        }
      ]
    },
    {
      "cell_type": "markdown",
      "source": [
        "**Flow Control - If Else (Logical)**"
      ],
      "metadata": {
        "id": "JYMEPj71PHTV"
      }
    },
    {
      "cell_type": "code",
      "source": [
        "age = 25\n",
        "\n",
        "if age > 18:\n",
        "  print('You can vote')"
      ],
      "metadata": {
        "colab": {
          "base_uri": "https://localhost:8080/"
        },
        "id": "IImVCsfbPG9J",
        "outputId": "bc7b9435-594d-4593-d8fe-eb37c8400aed"
      },
      "execution_count": 48,
      "outputs": [
        {
          "output_type": "stream",
          "name": "stdout",
          "text": [
            "You can vote\n"
          ]
        }
      ]
    },
    {
      "cell_type": "code",
      "source": [
        "age = 15\n",
        "\n",
        "if age > 18:\n",
        "  print('You can vote')\n",
        "else:\n",
        "  print('You cannot vote')"
      ],
      "metadata": {
        "colab": {
          "base_uri": "https://localhost:8080/"
        },
        "id": "UsV4-f1jP7mT",
        "outputId": "6b77afdc-c630-4bd3-a45e-2d967eedb8dc"
      },
      "execution_count": 50,
      "outputs": [
        {
          "output_type": "stream",
          "name": "stdout",
          "text": [
            "You cannot vote\n"
          ]
        }
      ]
    },
    {
      "cell_type": "code",
      "source": [
        "#Write a program for login activity\n",
        "#username, password => Compare username and password => if both matches => Logic Successful.\n",
        "\n",
        "username = 'abc'\n",
        "password = 'abc123'\n",
        "\n",
        "entered_username = 'abc'\n",
        "entered_password = 'abc123'\n",
        "\n",
        "if (entered_username == username and entered_password == password):\n",
        "  print('Login Successful')\n",
        "else:\n",
        "  print('Wrong Credentials. Try again')"
      ],
      "metadata": {
        "colab": {
          "base_uri": "https://localhost:8080/"
        },
        "id": "ueQL-QixP_4c",
        "outputId": "2c6f2870-e464-472d-c94a-2c0ee798cfce"
      },
      "execution_count": 56,
      "outputs": [
        {
          "output_type": "stream",
          "name": "stdout",
          "text": [
            "Login Successful\n"
          ]
        }
      ]
    },
    {
      "cell_type": "code",
      "source": [
        "# OR\n",
        "username = 'abc'\n",
        "password = 'abc123'\n",
        "\n",
        "if (username == 'abcd' and password == 'abc123'):\n",
        "  print('Login Successful')\n",
        "else:\n",
        "  print('Wrong Credentials. Try again')"
      ],
      "metadata": {
        "colab": {
          "base_uri": "https://localhost:8080/"
        },
        "id": "t9_11WkNR9r0",
        "outputId": "9f27564b-11d1-485c-9768-ca299d64f00e"
      },
      "execution_count": 61,
      "outputs": [
        {
          "output_type": "stream",
          "name": "stdout",
          "text": [
            "Wrong Credentials. Try again\n"
          ]
        }
      ]
    },
    {
      "cell_type": "code",
      "source": [
        "#OR (fetching data from user)\n",
        "username = input('Enter Username: ')\n",
        "password = input('Enter Password: ')\n",
        "\n",
        "if (username == 'abcd' and password == 'abc123'):\n",
        "  print('Login Successful')\n",
        "else:\n",
        "  print('Wrong Credentials. Try again')"
      ],
      "metadata": {
        "colab": {
          "base_uri": "https://localhost:8080/"
        },
        "id": "7vR3tyRvSULe",
        "outputId": "927a3ccb-ee5c-4f20-9feb-6bdb356aaebc"
      },
      "execution_count": 64,
      "outputs": [
        {
          "output_type": "stream",
          "name": "stdout",
          "text": [
            "Enter Username: abc\n",
            "Enter Password: abc1234\n",
            "Wrong Credentials. Try again\n"
          ]
        }
      ]
    },
    {
      "cell_type": "code",
      "source": [
        "#WAP to check a value as even or odd.\n",
        "\n",
        "number_entered = int(input('Enter a number: ')) #User entered values are string in Python. Use typecasting if numerical operations are done.\n",
        "if (number_entered) % 2 == 0:\n",
        "  print('Number Entered is Even.')\n",
        "else:\n",
        "  print('Number Entered is Odd.')"
      ],
      "metadata": {
        "colab": {
          "base_uri": "https://localhost:8080/"
        },
        "id": "EDE9txuaT-Rh",
        "outputId": "6b8e6419-695c-4983-87fc-2787265bb2eb"
      },
      "execution_count": 71,
      "outputs": [
        {
          "output_type": "stream",
          "name": "stdout",
          "text": [
            "Enter a number: 7\n",
            "Number Entered is Odd.\n"
          ]
        }
      ]
    },
    {
      "cell_type": "code",
      "source": [
        "#if freq < 10 => low frequency, 10-20 => medium frequency, freq>20 => High frequency\n",
        "\n",
        "frequency = float(input('Enter frequency : '))\n",
        "\n",
        "if frequency < 10:\n",
        "  print('Low Frequency')\n",
        "elif frequency < 20:\n",
        "  print('Medium Frequency')\n",
        "else:\n",
        "  print('High Frequency')"
      ],
      "metadata": {
        "colab": {
          "base_uri": "https://localhost:8080/"
        },
        "id": "rfeiQPFwXmT0",
        "outputId": "3ef4dd1f-b3fc-41c9-c9e8-4afe671df589"
      },
      "execution_count": 77,
      "outputs": [
        {
          "output_type": "stream",
          "name": "stdout",
          "text": [
            "Enter frequency : 7\n",
            "Low Frequency\n"
          ]
        }
      ]
    },
    {
      "cell_type": "code",
      "source": [],
      "metadata": {
        "id": "SWuh5ApsbEbM"
      },
      "execution_count": null,
      "outputs": []
    },
    {
      "cell_type": "code",
      "source": [
        "#WAP for login activity => gmail login\n",
        "#username => compare username\n",
        "#if username is correct => fetch password => if password is coreect => login successful\n",
        "                                          #=> if password is incorrect => incorrect password\n",
        "#if username is incorrect => \"Not registered user\"\n",
        "\n",
        "correct_username_gmail = 'abcde'\n",
        "correct_password_gmail = 'abcde123'\n",
        "\n",
        "entered_username_gmail = input('Enter the username : ')\n",
        "\n",
        "if entered_username_gmail == correct_username_gmail:\n",
        "  entered_password_gmail = input('Enter the password : ')\n",
        "  if entered_password_gmail == correct_password_gmail:\n",
        "    print('Login Sucessful')\n",
        "  else:\n",
        "    print('Incorrect Password')\n",
        "else:\n",
        "  print('Not registered user')"
      ],
      "metadata": {
        "colab": {
          "base_uri": "https://localhost:8080/"
        },
        "id": "luydw6qzZgOy",
        "outputId": "7c0ccf83-b051-486f-f2a1-9f8376d4ddf1"
      },
      "execution_count": 84,
      "outputs": [
        {
          "output_type": "stream",
          "name": "stdout",
          "text": [
            "Enter the username : abcde\n",
            "Enter the password : abcde123\n",
            "Login Sucessful\n"
          ]
        }
      ]
    },
    {
      "cell_type": "code",
      "source": [
        "#We also want to check if @gmail.com present or not\n",
        "\n",
        "correct_username_gmail = 'abcde@gmail.com'\n",
        "correct_password_gmail = 'abcde123'\n",
        "\n",
        "entered_username_gmail = input('Enter the username : ')\n",
        "\n",
        "if '@gmail.com' in entered_username_gmail:\n",
        "  if entered_username_gmail == correct_username_gmail:\n",
        "    entered_password_gmail = input('Enter the password : ')\n",
        "    if entered_password_gmail == correct_password_gmail:\n",
        "      print('Login Sucessful')\n",
        "    else:\n",
        "      print('Incorrect Password')\n",
        "  else:\n",
        "    print('Not registered user')\n",
        "else:\n",
        "  print('Incorrect form of username')"
      ],
      "metadata": {
        "colab": {
          "base_uri": "https://localhost:8080/"
        },
        "id": "AvzdAuDRb39B",
        "outputId": "3e129f99-27a2-4927-8b5e-0bc9d8bfb031"
      },
      "execution_count": 93,
      "outputs": [
        {
          "output_type": "stream",
          "name": "stdout",
          "text": [
            "Enter the username : abcde@gmail.com\n",
            "Enter the password : abcde123\n",
            "Login Sucessful\n"
          ]
        }
      ]
    },
    {
      "cell_type": "code",
      "source": [
        "username = input('Enter the username : ')\n",
        "print(username)\n",
        "print(username[-10:])"
      ],
      "metadata": {
        "colab": {
          "base_uri": "https://localhost:8080/"
        },
        "id": "Gu0Szgitdtoq",
        "outputId": "3494589f-965d-4f86-97f8-f8dfe50ee124"
      },
      "execution_count": 94,
      "outputs": [
        {
          "output_type": "stream",
          "name": "stdout",
          "text": [
            "Enter the username : abc@gmail.com\n",
            "abc@gmail.com\n",
            "@gmail.com\n"
          ]
        }
      ]
    },
    {
      "cell_type": "code",
      "source": [
        "# We want to check if username ends with \"@gmail.com\".\n",
        "# In previous example, we were just checking if \"@gmail.com\" was present or not. I may be present in middle of username as well.\n",
        "\n",
        "correct_username_gmail = 'abcde@gmail.com'\n",
        "correct_password_gmail = 'abcde123'\n",
        "\n",
        "entered_username_gmail = input('Enter the username : ')\n",
        "\n",
        "if entered_username_gmail[-10:] == '@gmail.com':\n",
        "  if entered_username_gmail == correct_username_gmail:\n",
        "    entered_password_gmail = input('Enter the password : ')\n",
        "    if entered_password_gmail == correct_password_gmail:\n",
        "      print('Login Sucessful')\n",
        "    else:\n",
        "      print('Incorrect Password')\n",
        "  else:\n",
        "    print('Not registered user')\n",
        "else:\n",
        "  print('Incorrect form of username')"
      ],
      "metadata": {
        "colab": {
          "base_uri": "https://localhost:8080/"
        },
        "id": "d1bIPITpd8_9",
        "outputId": "a1c4edf7-7fa3-4680-c36d-c25219e8f40b"
      },
      "execution_count": 98,
      "outputs": [
        {
          "output_type": "stream",
          "name": "stdout",
          "text": [
            "Enter the username : abcde@gmail.com\n",
            "Enter the password : abcde123\n",
            "Login Sucessful\n"
          ]
        }
      ]
    },
    {
      "cell_type": "code",
      "source": [
        "# WAP to identify the strength of password\n",
        "# if password contains only character => weak password\n",
        "# if password contains character and number => medium password\n",
        "# if password contains character, number and special character => strong password\n",
        "\n",
        "import re\n",
        "\n",
        "nums = [1,2,3,4,5,6,7,8,9,0]\n",
        "specials = ['!','@','#','%','&','?']\n",
        "\n",
        "password1 = 'abcde'\n",
        "password2 = 'abcde2xy4'\n",
        "password3 = 'abcde2yu!6'\n",
        "\n",
        "print(re.search(r\"[1,2,3,4,5,6,7,8,9]\" , password1))\n",
        "print(re.search(r\"[1,2,3,4,5,6,7,8,9]\" , password2))\n",
        "print(re.search(r\"[1,2,3,4,5,6,7,8,9]\" , password3))\n"
      ],
      "metadata": {
        "colab": {
          "base_uri": "https://localhost:8080/"
        },
        "id": "RjklivEKep8F",
        "outputId": "838eb982-6cd4-4379-b77d-5ebb797a13a2"
      },
      "execution_count": 100,
      "outputs": [
        {
          "output_type": "stream",
          "name": "stdout",
          "text": [
            "None\n",
            "<re.Match object; span=(5, 6), match='2'>\n",
            "<re.Match object; span=(5, 6), match='2'>\n"
          ]
        }
      ]
    },
    {
      "cell_type": "code",
      "source": [
        "print(re.search(r\"['!','@','#','%','&','?']\" , password1))\n",
        "print(re.search(r\"['!','@','#','%','&','?']\" , password2))\n",
        "print(re.search(r\"['!','@','#','%','&','?']\" , password3))"
      ],
      "metadata": {
        "colab": {
          "base_uri": "https://localhost:8080/"
        },
        "id": "5-ktIW2eiQBR",
        "outputId": "29068da1-c227-4ea6-b221-d81dfd0066d9"
      },
      "execution_count": 101,
      "outputs": [
        {
          "output_type": "stream",
          "name": "stdout",
          "text": [
            "None\n",
            "None\n",
            "<re.Match object; span=(8, 9), match='!'>\n"
          ]
        }
      ]
    }
  ]
}
