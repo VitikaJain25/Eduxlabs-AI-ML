{
  "nbformat": 4,
  "nbformat_minor": 0,
  "metadata": {
    "colab": {
      "provenance": [],
      "authorship_tag": "ABX9TyNR1XDDy8wggFKG7u6+j++i",
      "include_colab_link": true
    },
    "kernelspec": {
      "name": "python3",
      "display_name": "Python 3"
    },
    "language_info": {
      "name": "python"
    }
  },
  "cells": [
    {
      "cell_type": "markdown",
      "metadata": {
        "id": "view-in-github",
        "colab_type": "text"
      },
      "source": [
        "<a href=\"https://colab.research.google.com/github/VitikaJain25/Eduxlabs-AI-ML/blob/main/v_eict_ml_project_percentile.ipynb\" target=\"_parent\"><img src=\"https://colab.research.google.com/assets/colab-badge.svg\" alt=\"Open In Colab\"/></a>"
      ]
    },
    {
      "cell_type": "code",
      "execution_count": 2,
      "metadata": {
        "colab": {
          "base_uri": "https://localhost:8080/"
        },
        "id": "VovoPR6IbjtV",
        "outputId": "1d346c3d-24bb-4056-f3fe-104bfc093ca8"
      },
      "outputs": [
        {
          "output_type": "stream",
          "name": "stdout",
          "text": [
            "16.0\n",
            "16.0\n"
          ]
        }
      ],
      "source": [
        "import numpy as np\n",
        "\n",
        "n1 = np.array([15,12,18,16,19])\n",
        "print(np.mean(n1))\n",
        "print(np.median(n1))"
      ]
    },
    {
      "cell_type": "code",
      "source": [
        "n2 = np.array([1,15,12,18,17,19,80])\n",
        "print(np.mean(n2))\n",
        "print(np.median(n2))"
      ],
      "metadata": {
        "colab": {
          "base_uri": "https://localhost:8080/"
        },
        "id": "18oExzDVb1zM",
        "outputId": "be3b79c6-f849-4e1a-d11b-9b3d3dbaad34"
      },
      "execution_count": 4,
      "outputs": [
        {
          "output_type": "stream",
          "name": "stdout",
          "text": [
            "23.142857142857142\n",
            "17.0\n"
          ]
        }
      ]
    },
    {
      "cell_type": "markdown",
      "source": [
        "**Percentiles & Quartiles**\n",
        "\n",
        "**Percentile** = A value below which a certain percentage of information exist.\n",
        "* In a exam \"ABC\" got 95 percentile marks\n",
        "* \"ABC\" got better marks than 95% of entire students."
      ],
      "metadata": {
        "id": "68IbtPdgdV2y"
      }
    },
    {
      "cell_type": "code",
      "source": [
        "# Percentage\n",
        "n3 = np.array([1,2,3,4,5])\n",
        "\n",
        "# %age of numbers that are even = 2/5 = 0.4 => 40%"
      ],
      "metadata": {
        "id": "gRH9NJEwdbZ9"
      },
      "execution_count": null,
      "outputs": []
    },
    {
      "cell_type": "code",
      "source": [
        "dataset = [2,2,3,4,5,5,5,6,7,8,8,8,8,8,9,9,10,11,11,12]"
      ],
      "metadata": {
        "id": "GItMT1BkeM0q"
      },
      "execution_count": 5,
      "outputs": []
    },
    {
      "cell_type": "markdown",
      "source": [
        "**What is the percentile ranking of 10**\n",
        "\n",
        "* n = total number of samples = 20\n",
        "* percentile ranking of 10 = (number of values below 10 / n) * 100 => (16/20) * 100 = 80 percentile"
      ],
      "metadata": {
        "id": "6iQ4rt6Jekeo"
      }
    },
    {
      "cell_type": "markdown",
      "source": [
        "**What value exists at a percentile rank of 25?**\n",
        "* value = (percentile / 100) * (n+1) => (25/100) * 21 = 5.25 => index value\n",
        "* Value at index 5 = 5\n",
        "* Value at index 6 = 5\n",
        "* Average value of 5th and 6th index = 5\n",
        "* Answer = 5"
      ],
      "metadata": {
        "id": "XKb5HE4Ae2X0"
      }
    },
    {
      "cell_type": "markdown",
      "source": [
        "**Quartiles**\n",
        "* 1st Quartile = Q1 = 25 Percentile\n",
        "* 2nd Quartile = Q2 = Median = 50 Percentile\n",
        "* 3rd Quartile = Q3 = 75 Percentile\n",
        "* IQR = Inter Quartile Range = Q3 - Q1"
      ],
      "metadata": {
        "id": "BtC-aZx7gurn"
      }
    },
    {
      "cell_type": "markdown",
      "source": [
        "**Five point summary and Box Plot**\n",
        "* Minimum\n",
        "* First Quartile (25 percentile), Q1\n",
        "* Median, Q2\n",
        "* Third Quartile (75 percentile), Q3\n",
        "* Maximum"
      ],
      "metadata": {
        "id": "4g8iF7mEhhxz"
      }
    },
    {
      "cell_type": "code",
      "source": [
        "data = np.array([1,2,2,2,3,3,4,5,5,5,6,6,6,6,7,8,8,9,27])"
      ],
      "metadata": {
        "id": "rEI7uugSehYz"
      },
      "execution_count": 15,
      "outputs": []
    },
    {
      "cell_type": "markdown",
      "source": [
        "* 25 percentile value = 25/100 * (19+1) = 5 => Q1 index\n",
        "* 75 percentile value = (75/100) * (19+1) = 15 => Q3 index"
      ],
      "metadata": {
        "id": "MIDy6ZQvh-E2"
      }
    },
    {
      "cell_type": "code",
      "source": [
        "q1_value = data[5]\n",
        "q3_value = data[15]\n",
        "\n",
        "print(q1_value, q3_value)"
      ],
      "metadata": {
        "colab": {
          "base_uri": "https://localhost:8080/"
        },
        "id": "JolyG3xNil5w",
        "outputId": "2d080413-ae05-4256-8135-3ec4760a4a61"
      },
      "execution_count": 16,
      "outputs": [
        {
          "output_type": "stream",
          "name": "stdout",
          "text": [
            "3 8\n"
          ]
        }
      ]
    },
    {
      "cell_type": "code",
      "source": [
        "np.median(data)"
      ],
      "metadata": {
        "colab": {
          "base_uri": "https://localhost:8080/"
        },
        "id": "Tfd6pPoBk2td",
        "outputId": "3a1c3ff6-9a8c-49cd-d4f4-48cbca4e3b4a"
      },
      "execution_count": 22,
      "outputs": [
        {
          "output_type": "execute_result",
          "data": {
            "text/plain": [
              "5.0"
            ]
          },
          "metadata": {},
          "execution_count": 22
        }
      ]
    },
    {
      "cell_type": "code",
      "source": [
        "iqr = q3_value - q1_value\n",
        "print(iqr)"
      ],
      "metadata": {
        "colab": {
          "base_uri": "https://localhost:8080/"
        },
        "id": "F_KyAsLWiv9R",
        "outputId": "96e746a7-730f-4f34-edd8-6eea34e29659"
      },
      "execution_count": 17,
      "outputs": [
        {
          "output_type": "stream",
          "name": "stdout",
          "text": [
            "5\n"
          ]
        }
      ]
    },
    {
      "cell_type": "code",
      "source": [
        "# Lower fence and higher fence\n",
        "\n",
        "lf = q1_value - 1.5 * iqr\n",
        "hf = q3_value + 1.5 * iqr\n",
        "\n",
        "print(lf, hf)"
      ],
      "metadata": {
        "colab": {
          "base_uri": "https://localhost:8080/"
        },
        "id": "0wPzN05ai2Dn",
        "outputId": "ecf0df81-3deb-4ee2-a565-7c6af92b5406"
      },
      "execution_count": 18,
      "outputs": [
        {
          "output_type": "stream",
          "name": "stdout",
          "text": [
            "-4.5 15.5\n"
          ]
        }
      ]
    },
    {
      "cell_type": "code",
      "source": [
        "data[(data < lf) | (data > hf)]"
      ],
      "metadata": {
        "colab": {
          "base_uri": "https://localhost:8080/"
        },
        "id": "aCv4dUpIjJVE",
        "outputId": "80a2494f-a631-498c-c7be-86206cc053e4"
      },
      "execution_count": 19,
      "outputs": [
        {
          "output_type": "execute_result",
          "data": {
            "text/plain": [
              "array([27])"
            ]
          },
          "metadata": {},
          "execution_count": 19
        }
      ]
    },
    {
      "cell_type": "code",
      "source": [
        "data[(data > lf) & (data < hf)]"
      ],
      "metadata": {
        "colab": {
          "base_uri": "https://localhost:8080/"
        },
        "id": "eupnBfM5jrdd",
        "outputId": "6f9dc813-0ecc-4701-dd1a-0f26b859a2f5"
      },
      "execution_count": 21,
      "outputs": [
        {
          "output_type": "execute_result",
          "data": {
            "text/plain": [
              "array([1, 2, 2, 2, 3, 3, 4, 5, 5, 5, 6, 6, 6, 6, 7, 8, 8, 9])"
            ]
          },
          "metadata": {},
          "execution_count": 21
        }
      ]
    }
  ]
}